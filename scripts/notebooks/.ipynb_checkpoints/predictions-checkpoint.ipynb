{
 "cells": [
  {
   "cell_type": "markdown",
   "metadata": {},
   "source": [
    "## Predictive Performance"
   ]
  },
  {
   "cell_type": "code",
   "execution_count": 1,
   "metadata": {},
   "outputs": [
    {
     "data": {
      "text/html": [
       "        <script type=\"text/javascript\">\n",
       "        window.PlotlyConfig = {MathJaxConfig: 'local'};\n",
       "        if (window.MathJax) {MathJax.Hub.Config({SVG: {font: \"STIX-Web\"}});}\n",
       "        if (typeof require !== 'undefined') {\n",
       "        require.undef(\"plotly\");\n",
       "        requirejs.config({\n",
       "            paths: {\n",
       "                'plotly': ['https://cdn.plot.ly/plotly-latest.min']\n",
       "            }\n",
       "        });\n",
       "        require(['plotly'], function(Plotly) {\n",
       "            window._Plotly = Plotly;\n",
       "        });\n",
       "        }\n",
       "        </script>\n",
       "        "
      ]
     },
     "metadata": {},
     "output_type": "display_data"
    },
    {
     "data": {
      "text/html": [
       "        <script type=\"text/javascript\">\n",
       "        window.PlotlyConfig = {MathJaxConfig: 'local'};\n",
       "        if (window.MathJax) {MathJax.Hub.Config({SVG: {font: \"STIX-Web\"}});}\n",
       "        if (typeof require !== 'undefined') {\n",
       "        require.undef(\"plotly\");\n",
       "        requirejs.config({\n",
       "            paths: {\n",
       "                'plotly': ['https://cdn.plot.ly/plotly-latest.min']\n",
       "            }\n",
       "        });\n",
       "        require(['plotly'], function(Plotly) {\n",
       "            window._Plotly = Plotly;\n",
       "        });\n",
       "        }\n",
       "        </script>\n",
       "        "
      ]
     },
     "metadata": {},
     "output_type": "display_data"
    }
   ],
   "source": [
    "import os\n",
    "import sys\n",
    "\n",
    "import pandas as pd\n",
    "import numpy as np\n",
    "import matplotlib.pyplot as plt\n",
    "from ipywidgets import interactive\n",
    "from plotly.offline import init_notebook_mode\n",
    "\n",
    "import cufflinks as cf\n",
    "init_notebook_mode(connected=True)\n",
    "cf.go_offline(connected=True)\n",
    "\n",
    "data_dir = 'temp_predictions'"
   ]
  },
  {
   "cell_type": "code",
   "execution_count": 13,
   "metadata": {},
   "outputs": [
    {
     "data": {
      "application/vnd.jupyter.widget-view+json": {
       "model_id": "0e5b8dd25f2946eca3600096bff74598",
       "version_major": 2,
       "version_minor": 0
      },
      "text/plain": [
       "interactive(children=(Dropdown(description='dataset', options=('surgical', 'adult', 'bank_marketing', 'flight_…"
      ]
     },
     "metadata": {},
     "output_type": "display_data"
    }
   ],
   "source": [
    "def f(dataset, n_estimators, max_depth, max_features, topd, metric):\n",
    "    x = ''\n",
    "    y = metric\n",
    "    \n",
    "    fp = os.path.join('..', '..', data_dir, dataset, 'forest', 'gini', 'results.csv')\n",
    "    fp2 = os.path.join('..', '..', data_dir, dataset, 'forest', 'gini', 'results2.csv')\n",
    "\n",
    "    temp_df = pd.read_csv(fp)\n",
    "    temp2_df = pd.read_csv(fp2)\n",
    "\n",
    "    if n_estimators != 'any':\n",
    "        temp_df = temp_df[temp_df['n_estimators'] == n_estimators]\n",
    "        temp2_df = temp2_df[temp2_df['n_estimators'] == n_estimators]\n",
    "    else:\n",
    "        x = 'n_estimators'\n",
    "\n",
    "    if max_depth != 'any':\n",
    "        temp_df = temp_df[temp_df['max_depth'] == max_depth]\n",
    "        temp2_df = temp2_df[temp2_df['max_depth'] == max_depth]\n",
    "        \n",
    "    if max_features != 'any':\n",
    "        temp_df = temp_df[temp_df['max_features'] == max_features]\n",
    "        temp2_df = temp2_df[temp2_df['max_features'] == max_features]\n",
    "        \n",
    "    if topd != 'any':\n",
    "        temp_df = temp_df[temp_df['topd'] == topd]\n",
    "        temp2_df = temp2_df[temp2_df['topd'] == topd]\n",
    "\n",
    "    fig, ax = plt.subplots(figsize=(7, 4))\n",
    "    \n",
    "    pf = temp_df[temp_df['lmbda'] == lmbda]\n",
    "    ax.plot(pf[x], pf[metric], label=r'$\\lambda={}$'.format(lmbda),\n",
    "            linestyle='--', marker='o', alpha=0.7)\n",
    "    \n",
    "    for lmbda in [-1, 0, 0.001, 0.01, 0.1]:\n",
    "        pf2 = temp2_df[temp2_df['lmbda'] == lmbda]\n",
    "        pf2 = pf2.groupby('n_estimators').mean().reset_index()\n",
    "        ax.plot(pf2[x], pf2[metric], label=r'$\\lambda={}$'.format(lmbda),\n",
    "                marker='o', alpha=0.7)\n",
    "\n",
    "    ax.set_xlabel(x)\n",
    "    ax.set_ylabel(metric)\n",
    "    ax.set_title('Predictive Performance')\n",
    "    ax.legend()\n",
    "    plt.show()\n",
    "\n",
    "interactive(f,\n",
    "            dataset=['surgical', 'adult', 'bank_marketing',\n",
    "                     'flight_delays', 'diabetes', 'skin',\n",
    "                     'census', 'twitter', 'gas_sensor',\n",
    "                     'higgs'],\n",
    "            n_estimators=['any', 10, 25, 35, 50, 75, 100, 250, 500],\n",
    "            max_depth=[1, 3, 5, 10, 20, 'any'],\n",
    "            max_features=['0.25', 'sqrt', 'any'],\n",
    "            topd=[1, 2, 3, 4, 5, 'any'],\n",
    "            metric=['auc', 'acc'])"
   ]
  },
  {
   "cell_type": "code",
   "execution_count": null,
   "metadata": {},
   "outputs": [],
   "source": []
  }
 ],
 "metadata": {
  "kernelspec": {
   "display_name": "Python 3",
   "language": "python",
   "name": "python3"
  },
  "language_info": {
   "codemirror_mode": {
    "name": "ipython",
    "version": 3
   },
   "file_extension": ".py",
   "mimetype": "text/x-python",
   "name": "python",
   "nbconvert_exporter": "python",
   "pygments_lexer": "ipython3",
   "version": "3.7.3"
  }
 },
 "nbformat": 4,
 "nbformat_minor": 4
}
