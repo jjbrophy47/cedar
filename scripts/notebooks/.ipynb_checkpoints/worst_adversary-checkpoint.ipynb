{
 "cells": [
  {
   "cell_type": "markdown",
   "metadata": {},
   "source": [
    "### Worst-Case Adversary Analysis"
   ]
  },
  {
   "cell_type": "code",
   "execution_count": 106,
   "metadata": {},
   "outputs": [
    {
     "data": {
      "text/html": [
       "        <script type=\"text/javascript\">\n",
       "        window.PlotlyConfig = {MathJaxConfig: 'local'};\n",
       "        if (window.MathJax) {MathJax.Hub.Config({SVG: {font: \"STIX-Web\"}});}\n",
       "        if (typeof require !== 'undefined') {\n",
       "        require.undef(\"plotly\");\n",
       "        requirejs.config({\n",
       "            paths: {\n",
       "                'plotly': ['https://cdn.plot.ly/plotly-latest.min']\n",
       "            }\n",
       "        });\n",
       "        require(['plotly'], function(Plotly) {\n",
       "            window._Plotly = Plotly;\n",
       "        });\n",
       "        }\n",
       "        </script>\n",
       "        "
      ]
     },
     "metadata": {},
     "output_type": "display_data"
    }
   ],
   "source": [
    "import os\n",
    "from itertools import cycle\n",
    "from copy import copy\n",
    "\n",
    "import numpy as np\n",
    "import pandas as pd\n",
    "import matplotlib.pyplot as plt\n",
    "import matplotlib.gridspec as gridspec\n",
    "import cufflinks as cf\n",
    "import plotly.offline\n",
    "\n",
    "from IPython.display import display, HTML\n",
    "from ipywidgets import interactive_output, HBox, VBox, Layout \n",
    "from ipywidgets import Dropdown, Checkbox, ToggleButtons, SelectionRangeSlider, SelectionSlider\n",
    "import ipywidgets as widgets\n",
    "\n",
    "cf.go_offline()\n",
    "pd.set_option('display.max_columns', 100)\n",
    "\n",
    "in_dir = '../../temp_worst_adversary/'\n",
    "\n",
    "def get_results(in_dir, dataset='surgical', operation='delete',\n",
    "                model_type='forest', criterion='gini', random_state=1,\n",
    "                n_estimators=250, max_depth=20, subsample_size=1,\n",
    "                topd=0, min_support=2, keep_frac=0.0):\n",
    "\n",
    "    fp = os.path.join(in_dir, dataset, operation, model_type, criterion, 'rs_{}'.format(random_state),\n",
    "                      'trees_{}'.format(n_estimators), 'depth_{}'.format(max_depth), 'sub_{}'.format(subsample_size),\n",
    "                      'keep_{}'.format(keep_frac), 'topd_{}'.format(topd), 'support_{}'.format(min_support),\n",
    "                      'results.npy')\n",
    "    \n",
    "    if os.path.exists(fp):\n",
    "        results = list(np.load(fp, allow_pickle=True)[()])\n",
    "        df = pd.DataFrame(results)\n",
    "        df['cum_search_time'] = df['search_time'].cumsum()\n",
    "        df['cum_delete_time'] = df['delete_time'].cumsum()\n",
    "        df['cum_sample_cost'] = df['sample_cost'].cumsum()\n",
    "        df['avg_search_time'] = df['search_time'].rolling(window=50).mean()\n",
    "        df['avg_delete_time'] = df['delete_time'].rolling(window=50).mean()\n",
    "        df['avg_sample_cost'] = df['sample_cost'].rolling(window=50).mean()\n",
    "    else:\n",
    "        df = None\n",
    "\n",
    "    return df"
   ]
  },
  {
   "cell_type": "code",
   "execution_count": 108,
   "metadata": {},
   "outputs": [
    {
     "data": {
      "application/vnd.jupyter.widget-view+json": {
       "model_id": "ca6d57235033482193cebddc848a5fea",
       "version_major": 2,
       "version_minor": 0
      },
      "text/plain": [
       "HBox(children=(VBox(children=(Dropdown(description='Dataset', options=('surgical', 'vaccine', 'adult', 'bank_m…"
      ]
     },
     "metadata": {},
     "output_type": "display_data"
    },
    {
     "data": {
      "application/vnd.jupyter.widget-view+json": {
       "model_id": "022bee224eaf4b5cbb55ba1a7bf52524",
       "version_major": 2,
       "version_minor": 0
      },
      "text/plain": [
       "Output()"
      ]
     },
     "metadata": {},
     "output_type": "display_data"
    }
   ],
   "source": [
    "def f(dataset, n_estimators, max_depth, topd, keep_frac, log_scale, analysis):\n",
    "    fig, axs = plt.subplots(1, 3, figsize=(15, 5))\n",
    "\n",
    "    prefix = ''\n",
    "    if analysis == 'cumulative':\n",
    "        prefix = 'cum_'\n",
    "    elif analysis == 'average':\n",
    "        prefix = 'avg_'\n",
    "\n",
    "    for sub_size in [1, 10, 100, 1000]:\n",
    "        df = get_results(in_dir=in_dir, dataset=dataset, n_estimators=n_estimators,\n",
    "                         max_depth=max_depth, topd=topd, subsample_size=sub_size,\n",
    "                         keep_frac=keep_frac)\n",
    "\n",
    "        if df is None:\n",
    "            continue\n",
    "\n",
    "        ax = axs[0]\n",
    "        ax.plot(df.index, df['{}delete_time'.format(prefix)], label='sub_size={}'.format(sub_size))\n",
    "        ax.set_xlabel('no. samples')\n",
    "        ax.set_ylabel('{}deletion_time (s)'.format(prefix))\n",
    "        ax.set_title('Deletion Time')\n",
    "        ax.legend()\n",
    "        if log_scale:\n",
    "            ax.set_yscale('log')\n",
    "\n",
    "        ax = axs[1]\n",
    "        ax.plot(df.index, df['{}sample_cost'.format(prefix)])\n",
    "        ax.set_xlabel('no. samples')\n",
    "        ax.set_ylabel('{}sample_cost (#)'.format(prefix))\n",
    "        ax.set_title('Sample Cost')\n",
    "        if log_scale:\n",
    "            ax.set_yscale('log')\n",
    "\n",
    "        ax = axs[2]\n",
    "        ax.plot(df.index, df['{}search_time'.format(prefix)])\n",
    "        ax.set_xlabel('no.samples')\n",
    "        ax.set_ylabel('{}search_time (s)'.format(prefix))\n",
    "        ax.set_title('Search')\n",
    "        if log_scale:\n",
    "            ax.set_yscale('log')\n",
    "\n",
    "    plt.tight_layout()\n",
    "    plt.show()\n",
    "\n",
    "# widgets\n",
    "dataset = Dropdown(description='Dataset', options=['surgical', 'vaccine', 'adult',\n",
    "                                                   'bank_marketing', 'flight_delays', 'diabetes',\n",
    "                                                   'olympics', 'census', 'credit_card',\n",
    "                                                   'synthetic', 'higgs'])\n",
    "n_estimators = SelectionSlider(description='No. trees', options=[10, 100, 250], value=250)\n",
    "max_depth = SelectionSlider(description='Max depth', options=[1, 3, 5, 10, 20], value=20)\n",
    "subsample_size = SelectionRangeSlider(description='Sample size', options=[1, 10, 100, 1000], index=(0, 0))\n",
    "topd = SelectionSlider(description='Topd', options=list(range(20)), value=0)\n",
    "keep_frac = SelectionSlider(description='Keep frac', options=[0.0, 0.1], value=0.0)\n",
    "log_scale = Checkbox(description='Log scale', value=False)\n",
    "analysis = SelectionSlider(description='Analysis', options=['raw', 'cumulative', 'average'], value='raw')\n",
    "\n",
    "dataset_dict = {'surgical': (250, 20), 'vaccine': (250, 10), 'adult': (10, 20),\n",
    "                'bank_marketing': (100, 10), 'flight_delays': (250, 20), 'diabetes': (250, 20),\n",
    "                'olympics': (250, 20), 'census': (250, 20), 'credit_card': (250, 20),\n",
    "                'synthetic': (250, 20), 'higgs': (100, 10)}\n",
    "\n",
    "# create UI\n",
    "box_1 = VBox([dataset, n_estimators, max_depth])\n",
    "box_2 = VBox([topd, keep_frac])\n",
    "box_3 = VBox([analysis, log_scale])\n",
    "ui = HBox([box_1, box_2, box_3])\n",
    "\n",
    "def update_parameters(*args):\n",
    "    n_estimators.value = dataset_dict[dataset.value][0]\n",
    "    max_depth.value = dataset_dict[dataset.value][1]\n",
    "\n",
    "dataset.observe(update_parameters, names='value')\n",
    "\n",
    "out = interactive_output(f, {'dataset': dataset, 'n_estimators': n_estimators, 'max_depth': max_depth,\n",
    "                             'topd': topd, 'keep_frac': keep_frac, 'log_scale': log_scale,\n",
    "                             'analysis': analysis})\n",
    "display(ui, out)"
   ]
  },
  {
   "cell_type": "code",
   "execution_count": null,
   "metadata": {},
   "outputs": [],
   "source": []
  }
 ],
 "metadata": {
  "kernelspec": {
   "display_name": "Python 3",
   "language": "python",
   "name": "python3"
  },
  "language_info": {
   "codemirror_mode": {
    "name": "ipython",
    "version": 3
   },
   "file_extension": ".py",
   "mimetype": "text/x-python",
   "name": "python",
   "nbconvert_exporter": "python",
   "pygments_lexer": "ipython3",
   "version": "3.7.3"
  }
 },
 "nbformat": 4,
 "nbformat_minor": 4
}
